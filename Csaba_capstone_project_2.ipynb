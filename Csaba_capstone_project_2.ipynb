{
 "cells": [
  {
   "cell_type": "code",
   "execution_count": 1,
   "metadata": {
    "id": "E3IKaIl5iQGR"
   },
   "outputs": [],
   "source": [
    "#Basic packages for reading data\n",
    "import pandas as pd\n",
    "import numpy as np\n",
    "#libraries for visualization\n",
    "import matplotlib.pyplot as plt\n",
    "import seaborn as sns\n",
    "#Preprocessing\n",
    "from sklearn.model_selection import train_test_split\n",
    "#Machine learning algorithms\n",
    "import statsmodels.api as sm\n",
    "from sklearn.model_selection import GridSearchCV\n",
    "from sklearn.linear_model import LogisticRegression\n",
    "from sklearn.ensemble import GradientBoostingClassifier\n",
    "from sklearn.svm import SVC\n",
    "from sklearn.ensemble import RandomForestClassifier\n",
    "#Packages for interpreting results\n",
    "from sklearn.metrics import classification_report, confusion_matrix, plot_confusion_matrix\n",
    "from sklearn.metrics import auc, roc_auc_score, roc_curve, recall_score\n",
    "from sklearn.metrics import f1_score, accuracy_score, roc_auc_score, make_scorer\n",
    "import pickle"
   ]
  },
  {
   "cell_type": "markdown",
   "metadata": {
    "id": "E-rqkdF9q7LC"
   },
   "source": [
    "Import data\n"
   ]
  },
  {
   "cell_type": "code",
   "execution_count": 2,
   "metadata": {
    "id": "IqGQXitWiQGW"
   },
   "outputs": [],
   "source": [
    "url = 'https://assets.datacamp.com/production/repositories/1765/datasets/ae888d00f9b36dd7d50a4afbc112761e2db766d2/turnover.csv'\n",
    "df = pd.read_csv(url)"
   ]
  },
  {
   "cell_type": "code",
   "execution_count": 3,
   "metadata": {
    "colab": {
     "base_uri": "https://localhost:8080/",
     "height": 224
    },
    "executionInfo": {
     "elapsed": 539,
     "status": "ok",
     "timestamp": 1604503214105,
     "user": {
      "displayName": "Kristof Csaba",
      "photoUrl": "",
      "userId": "02714921974284296610"
     },
     "user_tz": 480
    },
    "id": "J6MRBdXEiQGZ",
    "outputId": "dbfa341a-5904-4782-b7b4-5f5d27be0290"
   },
   "outputs": [
    {
     "data": {
      "text/html": [
       "<div>\n",
       "<style scoped>\n",
       "    .dataframe tbody tr th:only-of-type {\n",
       "        vertical-align: middle;\n",
       "    }\n",
       "\n",
       "    .dataframe tbody tr th {\n",
       "        vertical-align: top;\n",
       "    }\n",
       "\n",
       "    .dataframe thead th {\n",
       "        text-align: right;\n",
       "    }\n",
       "</style>\n",
       "<table border=\"1\" class=\"dataframe\">\n",
       "  <thead>\n",
       "    <tr style=\"text-align: right;\">\n",
       "      <th></th>\n",
       "      <th>satisfaction</th>\n",
       "      <th>evaluation</th>\n",
       "      <th>number_of_projects</th>\n",
       "      <th>average_montly_hours</th>\n",
       "      <th>time_spend_company</th>\n",
       "      <th>work_accident</th>\n",
       "      <th>churn</th>\n",
       "      <th>promotion</th>\n",
       "      <th>department</th>\n",
       "      <th>salary</th>\n",
       "    </tr>\n",
       "  </thead>\n",
       "  <tbody>\n",
       "    <tr>\n",
       "      <th>0</th>\n",
       "      <td>0.38</td>\n",
       "      <td>0.53</td>\n",
       "      <td>2</td>\n",
       "      <td>157</td>\n",
       "      <td>3</td>\n",
       "      <td>0</td>\n",
       "      <td>1</td>\n",
       "      <td>0</td>\n",
       "      <td>sales</td>\n",
       "      <td>low</td>\n",
       "    </tr>\n",
       "    <tr>\n",
       "      <th>1</th>\n",
       "      <td>0.80</td>\n",
       "      <td>0.86</td>\n",
       "      <td>5</td>\n",
       "      <td>262</td>\n",
       "      <td>6</td>\n",
       "      <td>0</td>\n",
       "      <td>1</td>\n",
       "      <td>0</td>\n",
       "      <td>sales</td>\n",
       "      <td>medium</td>\n",
       "    </tr>\n",
       "    <tr>\n",
       "      <th>2</th>\n",
       "      <td>0.11</td>\n",
       "      <td>0.88</td>\n",
       "      <td>7</td>\n",
       "      <td>272</td>\n",
       "      <td>4</td>\n",
       "      <td>0</td>\n",
       "      <td>1</td>\n",
       "      <td>0</td>\n",
       "      <td>sales</td>\n",
       "      <td>medium</td>\n",
       "    </tr>\n",
       "    <tr>\n",
       "      <th>3</th>\n",
       "      <td>0.72</td>\n",
       "      <td>0.87</td>\n",
       "      <td>5</td>\n",
       "      <td>223</td>\n",
       "      <td>5</td>\n",
       "      <td>0</td>\n",
       "      <td>1</td>\n",
       "      <td>0</td>\n",
       "      <td>sales</td>\n",
       "      <td>low</td>\n",
       "    </tr>\n",
       "    <tr>\n",
       "      <th>4</th>\n",
       "      <td>0.37</td>\n",
       "      <td>0.52</td>\n",
       "      <td>2</td>\n",
       "      <td>159</td>\n",
       "      <td>3</td>\n",
       "      <td>0</td>\n",
       "      <td>1</td>\n",
       "      <td>0</td>\n",
       "      <td>sales</td>\n",
       "      <td>low</td>\n",
       "    </tr>\n",
       "  </tbody>\n",
       "</table>\n",
       "</div>"
      ],
      "text/plain": [
       "   satisfaction  evaluation  number_of_projects  average_montly_hours  \\\n",
       "0          0.38        0.53                   2                   157   \n",
       "1          0.80        0.86                   5                   262   \n",
       "2          0.11        0.88                   7                   272   \n",
       "3          0.72        0.87                   5                   223   \n",
       "4          0.37        0.52                   2                   159   \n",
       "\n",
       "   time_spend_company  work_accident  churn  promotion department  salary  \n",
       "0                   3              0      1          0      sales     low  \n",
       "1                   6              0      1          0      sales  medium  \n",
       "2                   4              0      1          0      sales  medium  \n",
       "3                   5              0      1          0      sales     low  \n",
       "4                   3              0      1          0      sales     low  "
      ]
     },
     "execution_count": 3,
     "metadata": {},
     "output_type": "execute_result"
    }
   ],
   "source": [
    "df.head()"
   ]
  },
  {
   "cell_type": "markdown",
   "metadata": {
    "id": "xwfonaNHiQGe"
   },
   "source": [
    "# Explore data"
   ]
  },
  {
   "cell_type": "code",
   "execution_count": 4,
   "metadata": {
    "colab": {
     "base_uri": "https://localhost:8080/"
    },
    "executionInfo": {
     "elapsed": 731,
     "status": "ok",
     "timestamp": 1604433388076,
     "user": {
      "displayName": "Kristof Csaba",
      "photoUrl": "",
      "userId": "02714921974284296610"
     },
     "user_tz": 480
    },
    "id": "Vxbbd8JBiQGg",
    "outputId": "b2ab79ba-c803-477a-d88e-f59a3d48c9b9"
   },
   "outputs": [
    {
     "name": "stdout",
     "output_type": "stream",
     "text": [
      "<class 'pandas.core.frame.DataFrame'>\n",
      "RangeIndex: 14999 entries, 0 to 14998\n",
      "Data columns (total 10 columns):\n",
      " #   Column                Non-Null Count  Dtype  \n",
      "---  ------                --------------  -----  \n",
      " 0   satisfaction          14999 non-null  float64\n",
      " 1   evaluation            14999 non-null  float64\n",
      " 2   number_of_projects    14999 non-null  int64  \n",
      " 3   average_montly_hours  14999 non-null  int64  \n",
      " 4   time_spend_company    14999 non-null  int64  \n",
      " 5   work_accident         14999 non-null  int64  \n",
      " 6   churn                 14999 non-null  int64  \n",
      " 7   promotion             14999 non-null  int64  \n",
      " 8   department            14999 non-null  object \n",
      " 9   salary                14999 non-null  object \n",
      "dtypes: float64(2), int64(6), object(2)\n",
      "memory usage: 1.1+ MB\n"
     ]
    }
   ],
   "source": [
    "df.info() #checking for missing values, and datatypes"
   ]
  },
  {
   "cell_type": "code",
   "execution_count": 5,
   "metadata": {},
   "outputs": [
    {
     "data": {
      "image/png": "[encoded data removed]",
      "text/plain": [
       "<Figure size 432x288 with 1 Axes>"
      ]
     },
     "metadata": {
      "needs_background": "light"
     },
     "output_type": "display_data"
    }
   ],
   "source": [
    "sns.boxplot(df.churn, df.satisfaction)\n",
    "plt.show()"
   ]
  },
  {
   "cell_type": "code",
   "execution_count": 7,
   "metadata": {},
   "outputs": [
    {
     "data": {
      "image/png": "[encoded data removed]",
      "text/plain": [
       "<Figure size 432x288 with 1 Axes>"
      ]
     },
     "metadata": {
      "needs_background": "light"
     },
     "output_type": "display_data"
    }
   ],
   "source": [
    "sns.boxplot(df.churn, df.time_spend_company)\n",
    "plt.show()"
   ]
  },
  {
   "cell_type": "code",
   "execution_count": 5,
   "metadata": {
    "colab": {
     "base_uri": "https://localhost:8080/",
     "height": 1000
    },
    "executionInfo": {
     "elapsed": 3121,
     "status": "ok",
     "timestamp": 1604433392323,
     "user": {
      "displayName": "Kristof Csaba",
      "photoUrl": "",
      "userId": "02714921974284296610"
     },
     "user_tz": 480
    },
    "id": "XF0B67qgiQGk",
    "outputId": "204e7b35-1dac-4bc5-e4ee-d527b7990740"
   },
   "outputs": [
    {
     "data": {
      "image/png": "[encoded data removed]",
      "text/plain": [
       "<Figure size 1440x1440 with 9 Axes>"
      ]
     },
     "metadata": {
      "needs_background": "light"
     },
     "output_type": "display_data"
    }
   ],
   "source": [
    "#Check the distrubutions, and central tendency of the data\n",
    "df.hist(figsize=(20,20))\n",
    "plt.show()"
   ]
  },
  {
   "cell_type": "code",
   "execution_count": 6,
   "metadata": {
    "id": "kP5DiNpOiQG6"
   },
   "outputs": [],
   "source": [
    "corr = df.corr()"
   ]
  },
  {
   "cell_type": "code",
   "execution_count": 7,
   "metadata": {
    "colab": {
     "base_uri": "https://localhost:8080/",
     "height": 427
    },
    "executionInfo": {
     "elapsed": 1380,
     "status": "ok",
     "timestamp": 1604433500565,
     "user": {
      "displayName": "Kristof Csaba",
      "photoUrl": "",
      "userId": "02714921974284296610"
     },
     "user_tz": 480
    },
    "id": "_4oZ1G8YiQG8",
    "outputId": "801417ff-ac5f-465d-8820-1baf19dd6c29"
   },
   "outputs": [
    {
     "data": {
      "image/png": "[encoded data removed]",
      "text/plain": [
       "<Figure size 720x360 with 2 Axes>"
      ]
     },
     "metadata": {
      "needs_background": "light"
     },
     "output_type": "display_data"
    }
   ],
   "source": [
    "# Calculate correlations\n",
    "mask = np.zeros_like(corr)\n",
    "mask[np.triu_indices_from(mask)] = True\n",
    "# Heatmap\n",
    "plt.figure(figsize=(10, 5))\n",
    "sns.heatmap(corr,\n",
    "            vmax=.5,\n",
    "            mask=mask,\n",
    "            annot=True, fmt='.2f',\n",
    "            linewidths=.2, cmap=\"YlGnBu\")\n",
    "plt.show()"
   ]
  },
  {
   "cell_type": "markdown",
   "metadata": {
    "id": "hUBGTRtwiQG_"
   },
   "source": [
    "There are only a few contionus variables in the dataset, so it is normal that there are no colinearity amongst the features."
   ]
  },
  {
   "cell_type": "markdown",
   "metadata": {
    "id": "8YhIp4zRiQHA"
   },
   "source": [
    "# Preprocessing for machine learning model"
   ]
  },
  {
   "cell_type": "markdown",
   "metadata": {
    "id": "1nAx28S7iQGn"
   },
   "source": [
    "I am going to transform salary into categories. Since, they are ordinal caetgorical variables, I will reorder them. Also, I am going to transform the Departments into distinct categorical variables, by using dummy variables."
   ]
  },
  {
   "cell_type": "code",
   "execution_count": 8,
   "metadata": {
    "id": "g0Fy5Ks_iQGo"
   },
   "outputs": [],
   "source": [
    "df['salary'] = df['salary'].astype('category')\n",
    "\n",
    "df['salary'] = df['salary'].cat.reorder_categories(['low', 'medium', 'high'])\n",
    "\n",
    "df['salary'] = df['salary'].cat.codes"
   ]
  },
  {
   "cell_type": "code",
   "execution_count": 9,
   "metadata": {
    "id": "9_qcbD50iQGq"
   },
   "outputs": [],
   "source": [
    "departments = pd.get_dummies(df['department'], drop_first=True)\n",
    "#join the new dataframe \"departments\" to employee dataset\n",
    "df = df.join(departments)"
   ]
  },
  {
   "cell_type": "code",
   "execution_count": 10,
   "metadata": {
    "colab": {
     "base_uri": "https://localhost:8080/"
    },
    "executionInfo": {
     "elapsed": 858,
     "status": "ok",
     "timestamp": 1604503227701,
     "user": {
      "displayName": "Kristof Csaba",
      "photoUrl": "",
      "userId": "02714921974284296610"
     },
     "user_tz": 480
    },
    "id": "kzJKDVE80eLp",
    "outputId": "7f0a0e06-489e-41c7-9565-a7fced963082"
   },
   "outputs": [
    {
     "name": "stdout",
     "output_type": "stream",
     "text": [
      "<class 'pandas.core.frame.DataFrame'>\n",
      "RangeIndex: 14999 entries, 0 to 14998\n",
      "Data columns (total 18 columns):\n",
      " #   Column                Non-Null Count  Dtype  \n",
      "---  ------                --------------  -----  \n",
      " 0   satisfaction          14999 non-null  float64\n",
      " 1   evaluation            14999 non-null  float64\n",
      " 2   number_of_projects    14999 non-null  int64  \n",
      " 3   average_montly_hours  14999 non-null  int64  \n",
      " 4   time_spend_company    14999 non-null  int64  \n",
      " 5   work_accident         14999 non-null  int64  \n",
      " 6   churn                 14999 non-null  int64  \n",
      " 7   promotion             14999 non-null  int64  \n",
      " 8   salary                14999 non-null  int8   \n",
      " 9   RandD                 14999 non-null  uint8  \n",
      " 10  accounting            14999 non-null  uint8  \n",
      " 11  hr                    14999 non-null  uint8  \n",
      " 12  management            14999 non-null  uint8  \n",
      " 13  marketing             14999 non-null  uint8  \n",
      " 14  product_mng           14999 non-null  uint8  \n",
      " 15  sales                 14999 non-null  uint8  \n",
      " 16  support               14999 non-null  uint8  \n",
      " 17  technical             14999 non-null  uint8  \n",
      "dtypes: float64(2), int64(6), int8(1), uint8(9)\n",
      "memory usage: 1.1 MB\n"
     ]
    }
   ],
   "source": [
    "df.drop('department', axis=1, inplace=True)\n",
    "df.info()"
   ]
  },
  {
   "cell_type": "markdown",
   "metadata": {
    "id": "suTaSVUCHff1"
   },
   "source": [
    "Split data"
   ]
  },
  {
   "cell_type": "code",
   "execution_count": 11,
   "metadata": {
    "id": "q0n84soGiQHA"
   },
   "outputs": [],
   "source": [
    "#create X and y \n",
    "X = df.drop(['churn'], axis=1)\n",
    "y = df.churn"
   ]
  },
  {
   "cell_type": "code",
   "execution_count": 12,
   "metadata": {
    "id": "uZaw852JiQHC"
   },
   "outputs": [],
   "source": [
    "#Split data set into train and test\n",
    "X_train, X_test, y_train, y_test = train_test_split(X, y, random_state=42, test_size=.30)"
   ]
  },
  {
   "cell_type": "markdown",
   "metadata": {
    "id": "QstDz4oghkJe"
   },
   "source": [
    "# Building Machine Learning Models"
   ]
  },
  {
   "cell_type": "markdown",
   "metadata": {
    "id": "88UMa66_9nfr"
   },
   "source": [
    "*Logistic* Regression"
   ]
  },
  {
   "cell_type": "code",
   "execution_count": null,
   "metadata": {
    "colab": {
     "base_uri": "https://localhost:8080/"
    },
    "executionInfo": {
     "elapsed": 1042,
     "status": "ok",
     "timestamp": 1604433564396,
     "user": {
      "displayName": "Kristof Csaba",
      "photoUrl": "",
      "userId": "02714921974284296610"
     },
     "user_tz": 480
    },
    "id": "yaGZMuyh9nB9",
    "outputId": "6068936f-fccd-4b93-fd03-9dc7fabf6877"
   },
   "outputs": [
    {
     "name": "stdout",
     "output_type": "stream",
     "text": [
      "Optimization terminated successfully.\n",
      "         Current function value: 0.427169\n",
      "         Iterations 7\n",
      "                           Logit Regression Results                           \n",
      "==============================================================================\n",
      "Dep. Variable:                  churn   No. Observations:                10499\n",
      "Model:                          Logit   Df Residuals:                    10481\n",
      "Method:                           MLE   Df Model:                           17\n",
      "Date:                Tue, 03 Nov 2020   Pseudo R-squ.:                  0.2216\n",
      "Time:                        19:59:23   Log-Likelihood:                -4484.8\n",
      "converged:                       True   LL-Null:                       -5761.7\n",
      "Covariance Type:            nonrobust   LLR p-value:                     0.000\n",
      "========================================================================================\n",
      "                           coef    std err          z      P>|z|      [0.025      0.975]\n",
      "----------------------------------------------------------------------------------------\n",
      "const                    0.3141      0.170      1.846      0.065      -0.019       0.648\n",
      "satisfaction            -4.1749      0.117    -35.692      0.000      -4.404      -3.946\n",
      "evaluation               0.6215      0.178      3.486      0.000       0.272       0.971\n",
      "number_of_projects      -0.2974      0.025    -11.750      0.000      -0.347      -0.248\n",
      "average_montly_hours     0.0048      0.001      7.755      0.000       0.004       0.006\n",
      "time_spend_company       0.2633      0.019     14.179      0.000       0.227       0.300\n",
      "work_accident           -1.4972      0.106    -14.169      0.000      -1.704      -1.290\n",
      "promotion               -1.3725      0.302     -4.548      0.000      -1.964      -0.781\n",
      "salary                  -0.6966      0.046    -15.180      0.000      -0.786      -0.607\n",
      "RandD                   -0.5803      0.167     -3.481      0.000      -0.907      -0.254\n",
      "accounting               0.2177      0.146      1.491      0.136      -0.068       0.504\n",
      "hr                       0.4578      0.147      3.106      0.002       0.169       0.747\n",
      "management              -0.3556      0.176     -2.024      0.043      -0.700      -0.011\n",
      "marketing                0.2513      0.147      1.714      0.086      -0.036       0.539\n",
      "product_mng              0.1070      0.140      0.765      0.444      -0.167       0.381\n",
      "sales                    0.1540      0.107      1.442      0.149      -0.055       0.363\n",
      "support                  0.1662      0.117      1.419      0.156      -0.063       0.396\n",
      "technical                0.2597      0.113      2.304      0.021       0.039       0.481\n",
      "========================================================================================\n"
     ]
    }
   ],
   "source": [
    "X_train_const = sm.add_constant(X_train)\n",
    "sm_model = sm.Logit(y_train, X_train_const).fit()\n",
    "print(sm_model.summary())"
   ]
  },
  {
   "cell_type": "code",
   "execution_count": null,
   "metadata": {
    "colab": {
     "base_uri": "https://localhost:8080/"
    },
    "executionInfo": {
     "elapsed": 1510,
     "status": "ok",
     "timestamp": 1604433736626,
     "user": {
      "displayName": "Kristof Csaba",
      "photoUrl": "",
      "userId": "02714921974284296610"
     },
     "user_tz": 480
    },
    "id": "aQHvxtE5Txgu",
    "outputId": "5c92e8e7-fca5-4381-ce55-654ab6991b03"
   },
   "outputs": [
    {
     "data": {
      "text/plain": [
       "0    11428\n",
       "1     3571\n",
       "Name: churn, dtype: int64"
      ]
     },
     "execution_count": 164,
     "metadata": {
      "tags": []
     },
     "output_type": "execute_result"
    }
   ],
   "source": [
    "df.churn.value_counts()"
   ]
  },
  {
   "cell_type": "code",
   "execution_count": null,
   "metadata": {
    "id": "YACSLvrMGaXE"
   },
   "outputs": [],
   "source": [
    "params = {'C': np.arange(1e-03, 2, 0.01)} \n",
    "log_grid_search = GridSearchCV(LogisticRegression(solver='liblinear', class_weight=\"balanced\", random_state=7),\n",
    "                                param_grid=params, scoring='recall', cv=5)\n",
    "#fit the best logistic regression on data                      \n",
    "log_grid = log_grid_search.fit(X_train, y_train)"
   ]
  },
  {
   "cell_type": "code",
   "execution_count": null,
   "metadata": {
    "colab": {
     "base_uri": "https://localhost:8080/"
    },
    "executionInfo": {
     "elapsed": 60944,
     "status": "ok",
     "timestamp": 1604433833253,
     "user": {
      "displayName": "Kristof Csaba",
      "photoUrl": "",
      "userId": "02714921974284296610"
     },
     "user_tz": 480
    },
    "id": "6UuOi3ylNbPD",
    "outputId": "858f7427-9101-40eb-bb56-f6e9508cf7ff"
   },
   "outputs": [
    {
     "data": {
      "text/plain": [
       "0.8151260504201681"
      ]
     },
     "execution_count": 166,
     "metadata": {
      "tags": []
     },
     "output_type": "execute_result"
    }
   ],
   "source": [
    "log_grid.score(X_train, y_train)"
   ]
  },
  {
   "cell_type": "code",
   "execution_count": null,
   "metadata": {
    "colab": {
     "base_uri": "https://localhost:8080/"
    },
    "executionInfo": {
     "elapsed": 58775,
     "status": "ok",
     "timestamp": 1604433833254,
     "user": {
      "displayName": "Kristof Csaba",
      "photoUrl": "",
      "userId": "02714921974284296610"
     },
     "user_tz": 480
    },
    "id": "yy_EbTI_Nixj",
    "outputId": "264d66a2-8394-49ea-9f0a-1e70e8a2124e"
   },
   "outputs": [
    {
     "data": {
      "text/plain": [
       "0.8190298507462687"
      ]
     },
     "execution_count": 167,
     "metadata": {
      "tags": []
     },
     "output_type": "execute_result"
    }
   ],
   "source": [
    "log_grid.score(X_test, y_test)"
   ]
  },
  {
   "cell_type": "code",
   "execution_count": null,
   "metadata": {
    "colab": {
     "base_uri": "https://localhost:8080/"
    },
    "executionInfo": {
     "elapsed": 56680,
     "status": "ok",
     "timestamp": 1604433833255,
     "user": {
      "displayName": "Kristof Csaba",
      "photoUrl": "",
      "userId": "02714921974284296610"
     },
     "user_tz": 480
    },
    "id": "U2jrGhKBNi0V",
    "outputId": "3b435ceb-febd-4e65-9526-cf703a5103c4"
   },
   "outputs": [
    {
     "data": {
      "text/plain": [
       "array([[2532,  896],\n",
       "       [ 194,  878]])"
      ]
     },
     "execution_count": 168,
     "metadata": {
      "tags": []
     },
     "output_type": "execute_result"
    }
   ],
   "source": [
    "#Confusion matrix\n",
    "confusion_matrix(y_test, log_grid.predict(X_test))"
   ]
  },
  {
   "cell_type": "code",
   "execution_count": null,
   "metadata": {
    "colab": {
     "base_uri": "https://localhost:8080/"
    },
    "executionInfo": {
     "elapsed": 59117,
     "status": "ok",
     "timestamp": 1604433961426,
     "user": {
      "displayName": "Kristof Csaba",
      "photoUrl": "",
      "userId": "02714921974284296610"
     },
     "user_tz": 480
    },
    "id": "iN1MD3MdRhzZ",
    "outputId": "0db5b8dd-41d2-4b56-b053-8d51aa42b6c0"
   },
   "outputs": [
    {
     "name": "stdout",
     "output_type": "stream",
     "text": [
      "              precision    recall  f1-score   support\n",
      "\n",
      "           0       0.93      0.74      0.82      3428\n",
      "           1       0.49      0.82      0.62      1072\n",
      "\n",
      "    accuracy                           0.76      4500\n",
      "   macro avg       0.71      0.78      0.72      4500\n",
      "weighted avg       0.83      0.76      0.77      4500\n",
      "\n"
     ]
    }
   ],
   "source": [
    "log_grid.fit(X_train, y_train)\n",
    "print(classification_report(y_test, log_grid.predict(X_test)))"
   ]
  },
  {
   "cell_type": "code",
   "execution_count": null,
   "metadata": {
    "id": "vZGeG1nROouz"
   },
   "outputs": [],
   "source": [
    "train_pred_probs = log_grid.predict_proba(X_train)\n",
    "pred_probs = pd.Series(train_pred_probs[:, 1])\n",
    "x, y, _ = roc_curve(y_train, pred_probs)\n",
    "roc_auc = auc(x, y)"
   ]
  },
  {
   "cell_type": "code",
   "execution_count": null,
   "metadata": {
    "colab": {
     "base_uri": "https://localhost:8080/",
     "height": 295
    },
    "executionInfo": {
     "elapsed": 1350,
     "status": "ok",
     "timestamp": 1604433962800,
     "user": {
      "displayName": "Kristof Csaba",
      "photoUrl": "",
      "userId": "02714921974284296610"
     },
     "user_tz": 480
    },
    "id": "kFtkuFaPO1JU",
    "outputId": "7ad0d603-963d-4280-ba91-578991f7948b"
   },
   "outputs": [
    {
     "data": {
      "image/png": "[encoded data removed]",
      "text/plain": [
       "<Figure size 432x288 with 1 Axes>"
      ]
     },
     "metadata": {
      "needs_background": "light",
      "tags": []
     },
     "output_type": "display_data"
    }
   ],
   "source": [
    "plt.figure()\n",
    "lw = 2\n",
    "plt.plot(x, y, color='darkorange',\n",
    "         lw=lw, label='ROC curve (area = %0.2f)' % roc_auc)\n",
    "plt.plot([0, 1], [0, 1], color='navy', lw=lw, linestyle='--')\n",
    "plt.xlim([0.0, 1.0])\n",
    "plt.ylim([0.0, 1.05])\n",
    "plt.xlabel('False Positive Rate')\n",
    "plt.ylabel('True Positive Rate')\n",
    "plt.title('Employee Churn')\n",
    "plt.legend(loc=\"lower right\")\n",
    "plt.show()"
   ]
  },
  {
   "cell_type": "markdown",
   "metadata": {
    "id": "AwFKW-COqLBn"
   },
   "source": [
    "Gradient Boosting"
   ]
  },
  {
   "cell_type": "code",
   "execution_count": 13,
   "metadata": {
    "colab": {
     "base_uri": "https://localhost:8080/"
    },
    "executionInfo": {
     "elapsed": 73492,
     "status": "ok",
     "timestamp": 1604509115597,
     "user": {
      "displayName": "Kristof Csaba",
      "photoUrl": "",
      "userId": "02714921974284296610"
     },
     "user_tz": 480
    },
    "id": "iTK3Z4odqTUZ",
    "outputId": "72d7c883-ba8e-4ee8-ba6c-6d421f22d832"
   },
   "outputs": [
    {
     "data": {
      "text/plain": [
       "GridSearchCV(cv=5,\n",
       "             estimator=GradientBoostingClassifier(n_estimators=300,\n",
       "                                                  n_iter_no_change=10),\n",
       "             n_jobs=2,\n",
       "             param_grid={'learning_rate': [0.3, 0.4, 0.5, 0.6, 0.7],\n",
       "                         'max_depth': [5, 6, 7],\n",
       "                         'max_features': [None, 0.8, 0.9]},\n",
       "             scoring='recall')"
      ]
     },
     "execution_count": 13,
     "metadata": {},
     "output_type": "execute_result"
    }
   ],
   "source": [
    "#Start with a grid search to find the best model\n",
    "param = {'learning_rate': [0.3, 0.4, 0.5, 0.6, 0.7], 'max_depth': [5, 6, 7],\n",
    "         'max_features': [None, 0.80, 0.90]} \n",
    "\n",
    "gbc = GradientBoostingClassifier(n_iter_no_change=10, n_estimators=300) \n",
    "model = GridSearchCV(gbc, param, cv=5, scoring='recall', n_jobs=2)\n",
    "model.fit(X_train, y_train)"
   ]
  },
  {
   "cell_type": "code",
   "execution_count": 14,
   "metadata": {
    "colab": {
     "base_uri": "https://localhost:8080/"
    },
    "executionInfo": {
     "elapsed": 1610,
     "status": "ok",
     "timestamp": 1604509117236,
     "user": {
      "displayName": "Kristof Csaba",
      "photoUrl": "",
      "userId": "02714921974284296610"
     },
     "user_tz": 480
    },
    "id": "VR06tctuslhi",
    "outputId": "140891ec-49ac-4bc5-8d2d-0794a54777bc"
   },
   "outputs": [
    {
     "data": {
      "text/plain": [
       "{'learning_rate': 0.4, 'max_depth': 7, 'max_features': None}"
      ]
     },
     "execution_count": 14,
     "metadata": {},
     "output_type": "execute_result"
    }
   ],
   "source": [
    "model.best_params_"
   ]
  },
  {
   "cell_type": "code",
   "execution_count": 15,
   "metadata": {
    "colab": {
     "base_uri": "https://localhost:8080/"
    },
    "executionInfo": {
     "elapsed": 1567,
     "status": "ok",
     "timestamp": 1604509117237,
     "user": {
      "displayName": "Kristof Csaba",
      "photoUrl": "",
      "userId": "02714921974284296610"
     },
     "user_tz": 480
    },
    "id": "qdABnlkm8lHn",
    "outputId": "6342978e-3b39-47f1-b3e6-75d718140dff"
   },
   "outputs": [
    {
     "data": {
      "text/plain": [
       "25"
      ]
     },
     "execution_count": 15,
     "metadata": {},
     "output_type": "execute_result"
    }
   ],
   "source": [
    "model.best_estimator_.n_estimators_"
   ]
  },
  {
   "cell_type": "code",
   "execution_count": 16,
   "metadata": {
    "colab": {
     "base_uri": "https://localhost:8080/"
    },
    "executionInfo": {
     "elapsed": 1498,
     "status": "ok",
     "timestamp": 1604509117239,
     "user": {
      "displayName": "Kristof Csaba",
      "photoUrl": "",
      "userId": "02714921974284296610"
     },
     "user_tz": 480
    },
    "id": "rXhAYN7ytBYe",
    "outputId": "a219ecfe-1273-46dd-a96c-993b81685922"
   },
   "outputs": [
    {
     "name": "stdout",
     "output_type": "stream",
     "text": [
      "train score:  0.9963985594237695\n",
      "test score:  0.9533582089552238\n"
     ]
    }
   ],
   "source": [
    "print('train score: ', model.score(X_train, y_train))\n",
    "print('test score: ', model.score(X_test, y_test))"
   ]
  },
  {
   "cell_type": "code",
   "execution_count": 17,
   "metadata": {
    "colab": {
     "base_uri": "https://localhost:8080/"
    },
    "executionInfo": {
     "elapsed": 1282,
     "status": "ok",
     "timestamp": 1604509117243,
     "user": {
      "displayName": "Kristof Csaba",
      "photoUrl": "",
      "userId": "02714921974284296610"
     },
     "user_tz": 480
    },
    "id": "URq_cGVKxvpP",
    "outputId": "ade56332-d6bc-473e-a903-4b3b28c3253f"
   },
   "outputs": [
    {
     "name": "stdout",
     "output_type": "stream",
     "text": [
      "              precision    recall  f1-score   support\n",
      "\n",
      "           0       0.99      0.99      0.99      3428\n",
      "           1       0.96      0.95      0.96      1072\n",
      "\n",
      "    accuracy                           0.98      4500\n",
      "   macro avg       0.97      0.97      0.97      4500\n",
      "weighted avg       0.98      0.98      0.98      4500\n",
      "\n"
     ]
    }
   ],
   "source": [
    "print(classification_report(y_test, model.predict(X_test)))"
   ]
  },
  {
   "cell_type": "code",
   "execution_count": 18,
   "metadata": {},
   "outputs": [],
   "source": [
    "filename = 'finalized_model.sav'\n",
    "pickle.dump(model, open(filename, 'wb'))"
   ]
  },
  {
   "cell_type": "code",
   "execution_count": null,
   "metadata": {
    "colab": {
     "base_uri": "https://localhost:8080/",
     "height": 204
    },
    "executionInfo": {
     "elapsed": 785,
     "status": "ok",
     "timestamp": 1604514061976,
     "user": {
      "displayName": "Kristof Csaba",
      "photoUrl": "",
      "userId": "02714921974284296610"
     },
     "user_tz": 480
    },
    "id": "PwdCmCDgutaE",
    "outputId": "139bf21e-6aad-4cfc-e53b-214d9fb34014"
   },
   "outputs": [
    {
     "data": {
      "text/html": [
       "<div>\n",
       "<style scoped>\n",
       "    .dataframe tbody tr th:only-of-type {\n",
       "        vertical-align: middle;\n",
       "    }\n",
       "\n",
       "    .dataframe tbody tr th {\n",
       "        vertical-align: top;\n",
       "    }\n",
       "\n",
       "    .dataframe thead th {\n",
       "        text-align: right;\n",
       "    }\n",
       "</style>\n",
       "<table border=\"1\" class=\"dataframe\">\n",
       "  <thead>\n",
       "    <tr style=\"text-align: right;\">\n",
       "      <th></th>\n",
       "      <th>columns</th>\n",
       "      <th>importance scores</th>\n",
       "    </tr>\n",
       "  </thead>\n",
       "  <tbody>\n",
       "    <tr>\n",
       "      <th>0</th>\n",
       "      <td>satisfaction</td>\n",
       "      <td>0.479402</td>\n",
       "    </tr>\n",
       "    <tr>\n",
       "      <th>4</th>\n",
       "      <td>time_spend_company</td>\n",
       "      <td>0.167168</td>\n",
       "    </tr>\n",
       "    <tr>\n",
       "      <th>2</th>\n",
       "      <td>number_of_projects</td>\n",
       "      <td>0.130737</td>\n",
       "    </tr>\n",
       "    <tr>\n",
       "      <th>1</th>\n",
       "      <td>evaluation</td>\n",
       "      <td>0.118119</td>\n",
       "    </tr>\n",
       "    <tr>\n",
       "      <th>3</th>\n",
       "      <td>average_montly_hours</td>\n",
       "      <td>0.088149</td>\n",
       "    </tr>\n",
       "  </tbody>\n",
       "</table>\n",
       "</div>"
      ],
      "text/plain": [
       "                columns  importance scores\n",
       "0          satisfaction           0.479402\n",
       "4    time_spend_company           0.167168\n",
       "2    number_of_projects           0.130737\n",
       "1            evaluation           0.118119\n",
       "3  average_montly_hours           0.088149"
      ]
     },
     "execution_count": 76,
     "metadata": {
      "tags": []
     },
     "output_type": "execute_result"
    }
   ],
   "source": [
    "x_cols = X_train.columns\n",
    "\n",
    "pd.DataFrame({'columns': x_cols, 'importance scores':model.best_estimator_.feature_importances_}).sort_values(\n",
    "    by='importance scores', ascending=False).head(5)"
   ]
  },
  {
   "cell_type": "code",
   "execution_count": null,
   "metadata": {
    "id": "uI1g2Vz-gaGe"
   },
   "outputs": [],
   "source": [
    "ttrain_pred_probs = model.predict_proba(X_test)\n",
    "pred_probs = pd.Series(ttrain_pred_probs[:, 1])\n",
    "x, y, _ = roc_curve(y_test, pred_probs)\n",
    "roc_auc = auc(x, y)"
   ]
  },
  {
   "cell_type": "code",
   "execution_count": null,
   "metadata": {
    "colab": {
     "base_uri": "https://localhost:8080/",
     "height": 295
    },
    "executionInfo": {
     "elapsed": 763,
     "status": "ok",
     "timestamp": 1604514475283,
     "user": {
      "displayName": "Kristof Csaba",
      "photoUrl": "",
      "userId": "02714921974284296610"
     },
     "user_tz": 480
    },
    "id": "zUROlhHfgoQL",
    "outputId": "fcf9eee9-6941-41a1-a82c-a5abb5ce4dcd"
   },
   "outputs": [
    {
     "data": {
      "image/png": "[encoded data removed]",
      "text/plain": [
       "<Figure size 432x288 with 1 Axes>"
      ]
     },
     "metadata": {
      "needs_background": "light",
      "tags": []
     },
     "output_type": "display_data"
    }
   ],
   "source": [
    "plt.figure()\n",
    "lw = 2\n",
    "plt.plot(x, y, color='darkorange',\n",
    "         lw=lw, label='ROC curve (area = %0.2f)' % roc_auc)\n",
    "plt.plot([0, 1], [0, 1], color='navy', lw=lw, linestyle='--')\n",
    "plt.xlim([0.0, 1.0])\n",
    "plt.ylim([0.0, 1.05])\n",
    "plt.xlabel('False Positive Rate')\n",
    "plt.ylabel('True Positive Rate')\n",
    "plt.title('Employee Churn')\n",
    "plt.legend(loc=\"lower right\")\n",
    "plt.show()"
   ]
  },
  {
   "cell_type": "markdown",
   "metadata": {
    "id": "qbYRiT2xfjjz"
   },
   "source": [
    "This model has done the best job in predicting employee churn."
   ]
  },
  {
   "cell_type": "markdown",
   "metadata": {
    "id": "0jo7CUitXJ42"
   },
   "source": [
    "Support Vector Machines"
   ]
  },
  {
   "cell_type": "markdown",
   "metadata": {
    "id": "DHtEaOSXnT79"
   },
   "source": [
    "Basic SVM"
   ]
  },
  {
   "cell_type": "code",
   "execution_count": null,
   "metadata": {
    "colab": {
     "base_uri": "https://localhost:8080/"
    },
    "executionInfo": {
     "elapsed": 112839,
     "status": "ok",
     "timestamp": 1604434489746,
     "user": {
      "displayName": "Kristof Csaba",
      "photoUrl": "",
      "userId": "02714921974284296610"
     },
     "user_tz": 480
    },
    "id": "TGlWlIs-XMgj",
    "outputId": "34a341f4-2433-41d5-a55f-8137e3ddff3f"
   },
   "outputs": [
    {
     "data": {
      "text/plain": [
       "SVC(C=1.0, break_ties=False, cache_size=200, class_weight=None, coef0=0.0,\n",
       "    decision_function_shape='ovr', degree=3, gamma='scale', kernel='linear',\n",
       "    max_iter=-1, probability=False, random_state=None, shrinking=True,\n",
       "    tol=0.001, verbose=False)"
      ]
     },
     "execution_count": 180,
     "metadata": {
      "tags": []
     },
     "output_type": "execute_result"
    }
   ],
   "source": [
    "svm = SVC(kernel='linear')\n",
    "\n",
    "svm.fit(X_train, y_train)"
   ]
  },
  {
   "cell_type": "code",
   "execution_count": null,
   "metadata": {
    "colab": {
     "base_uri": "https://localhost:8080/"
    },
    "executionInfo": {
     "elapsed": 112695,
     "status": "ok",
     "timestamp": 1604434490499,
     "user": {
      "displayName": "Kristof Csaba",
      "photoUrl": "",
      "userId": "02714921974284296610"
     },
     "user_tz": 480
    },
    "id": "pMJW1tZpX-Y6",
    "outputId": "4808d655-e6c3-49a8-b982-9d173a1ad37f"
   },
   "outputs": [
    {
     "data": {
      "text/plain": [
       "0.7828364606152967"
      ]
     },
     "execution_count": 181,
     "metadata": {
      "tags": []
     },
     "output_type": "execute_result"
    }
   ],
   "source": [
    "svm.score(X_train, y_train)"
   ]
  },
  {
   "cell_type": "code",
   "execution_count": null,
   "metadata": {
    "colab": {
     "base_uri": "https://localhost:8080/"
    },
    "executionInfo": {
     "elapsed": 112251,
     "status": "ok",
     "timestamp": 1604434490878,
     "user": {
      "displayName": "Kristof Csaba",
      "photoUrl": "",
      "userId": "02714921974284296610"
     },
     "user_tz": 480
    },
    "id": "5hQnd-fVYKxL",
    "outputId": "7f20de93-319b-4378-a758-b86a37670a66"
   },
   "outputs": [
    {
     "data": {
      "text/plain": [
       "0.7737777777777778"
      ]
     },
     "execution_count": 182,
     "metadata": {
      "tags": []
     },
     "output_type": "execute_result"
    }
   ],
   "source": [
    "svm.score(X_test, y_test)"
   ]
  },
  {
   "cell_type": "code",
   "execution_count": null,
   "metadata": {
    "id": "gmFiZyWkYOKv"
   },
   "outputs": [],
   "source": [
    "y_pred = svm.predict(X_test)"
   ]
  },
  {
   "cell_type": "code",
   "execution_count": null,
   "metadata": {
    "colab": {
     "base_uri": "https://localhost:8080/"
    },
    "executionInfo": {
     "elapsed": 111035,
     "status": "ok",
     "timestamp": 1604434491209,
     "user": {
      "displayName": "Kristof Csaba",
      "photoUrl": "",
      "userId": "02714921974284296610"
     },
     "user_tz": 480
    },
    "id": "HK7ApDQlYpJl",
    "outputId": "168d446d-de3a-44f2-df1f-274d5bff7e0e"
   },
   "outputs": [
    {
     "name": "stdout",
     "output_type": "stream",
     "text": [
      "              precision    recall  f1-score   support\n",
      "\n",
      "           0       0.80      0.94      0.86      3428\n",
      "           1       0.56      0.25      0.34      1072\n",
      "\n",
      "    accuracy                           0.77      4500\n",
      "   macro avg       0.68      0.59      0.60      4500\n",
      "weighted avg       0.74      0.77      0.74      4500\n",
      "\n"
     ]
    }
   ],
   "source": [
    "print(classification_report(y_test, y_pred))\n",
    "#Over all pretty bad recall for churned employees"
   ]
  },
  {
   "cell_type": "markdown",
   "metadata": {
    "id": "T50fxkupniAb"
   },
   "source": [
    "Tuning the C for linear kernel"
   ]
  },
  {
   "cell_type": "code",
   "execution_count": null,
   "metadata": {
    "colab": {
     "base_uri": "https://localhost:8080/"
    },
    "executionInfo": {
     "elapsed": 836938,
     "status": "ok",
     "timestamp": 1604435225801,
     "user": {
      "displayName": "Kristof Csaba",
      "photoUrl": "",
      "userId": "02714921974284296610"
     },
     "user_tz": 480
    },
    "id": "H3XrxzvIYuxV",
    "outputId": "9f9546a8-dcef-4276-e351-6dc79a1bcc38"
   },
   "outputs": [
    {
     "name": "stdout",
     "output_type": "stream",
     "text": [
      "Train score for C = 0.01: 0.76\n",
      "Test score for C = 0.01: 0.76\n",
      "\n",
      "Train score for C = 0.1: 0.79\n",
      "Test score for C = 0.1: 0.78\n",
      "\n",
      "Train score for C = 1: 0.78\n",
      "Test score for C = 1: 0.77\n",
      "\n",
      "Train score for C = 10: 0.80\n",
      "Test score for C = 10: 0.80\n",
      "\n",
      "Train score for C = 100: 0.80\n",
      "Test score for C = 100: 0.79\n",
      "\n"
     ]
    }
   ],
   "source": [
    "C_list = [0.01, 0.1, 1, 10, 100]\n",
    "for C in C_list:\n",
    "  svc = SVC(kernel='linear', C=C).fit(X_train, y_train)\n",
    "  print(f'Train score for C = {C}: {svc.score(X_train, y_train):.2f}')\n",
    "  print(f'Test score for C = {C}: {svc.score(X_test, y_test):.2f}\\n')"
   ]
  },
  {
   "cell_type": "code",
   "execution_count": null,
   "metadata": {
    "colab": {
     "base_uri": "https://localhost:8080/"
    },
    "executionInfo": {
     "elapsed": 1141742,
     "status": "ok",
     "timestamp": 1604435531578,
     "user": {
      "displayName": "Kristof Csaba",
      "photoUrl": "",
      "userId": "02714921974284296610"
     },
     "user_tz": 480
    },
    "id": "ps9pKps9baz4",
    "outputId": "a3ab2244-f111-4783-b7a6-645e122d99b7"
   },
   "outputs": [
    {
     "data": {
      "text/plain": [
       "SVC(C=10, break_ties=False, cache_size=200, class_weight=None, coef0=0.0,\n",
       "    decision_function_shape='ovr', degree=3, gamma='scale', kernel='linear',\n",
       "    max_iter=-1, probability=False, random_state=None, shrinking=True,\n",
       "    tol=0.001, verbose=False)"
      ]
     },
     "execution_count": 186,
     "metadata": {
      "tags": []
     },
     "output_type": "execute_result"
    }
   ],
   "source": [
    "best_svm = SVC(C=10, kernel='linear')\n",
    "\n",
    "best_svm.fit(X_train, y_train)"
   ]
  },
  {
   "cell_type": "code",
   "execution_count": null,
   "metadata": {
    "colab": {
     "base_uri": "https://localhost:8080/"
    },
    "executionInfo": {
     "elapsed": 1140058,
     "status": "ok",
     "timestamp": 1604435532882,
     "user": {
      "displayName": "Kristof Csaba",
      "photoUrl": "",
      "userId": "02714921974284296610"
     },
     "user_tz": 480
    },
    "id": "uCQTMHSOdDkp",
    "outputId": "08003fc2-6b9e-459c-cc5e-5fd56d5e0801"
   },
   "outputs": [
    {
     "name": "stdout",
     "output_type": "stream",
     "text": [
      "0.8037908372225926\n",
      "0.8\n"
     ]
    }
   ],
   "source": [
    "print(best_svm.score(X_train, y_train))\n",
    "print(best_svm.score(X_test, y_test))\n",
    "\n",
    "#results are better now, but they still need to be improved"
   ]
  },
  {
   "cell_type": "markdown",
   "metadata": {
    "id": "3jkmOxMZntIJ"
   },
   "source": [
    "Conduct Grid search for rbf kernel"
   ]
  },
  {
   "cell_type": "code",
   "execution_count": null,
   "metadata": {
    "colab": {
     "base_uri": "https://localhost:8080/"
    },
    "executionInfo": {
     "elapsed": 1714809,
     "status": "ok",
     "timestamp": 1604436108715,
     "user": {
      "displayName": "Kristof Csaba",
      "photoUrl": "",
      "userId": "02714921974284296610"
     },
     "user_tz": 480
    },
    "id": "jqQ0M6FkdlGQ",
    "outputId": "57910a76-6ac5-4637-914b-647d83a7ffc8"
   },
   "outputs": [
    {
     "data": {
      "text/plain": [
       "GridSearchCV(cv=10, error_score=nan,\n",
       "             estimator=SVC(C=1.0, break_ties=False, cache_size=200,\n",
       "                           class_weight=None, coef0=0.0,\n",
       "                           decision_function_shape='ovr', degree=3,\n",
       "                           gamma='scale', kernel='rbf', max_iter=-1,\n",
       "                           probability=False, random_state=None, shrinking=True,\n",
       "                           tol=0.001, verbose=False),\n",
       "             iid='deprecated', n_jobs=2,\n",
       "             param_grid={'C': [0.01, 0.1, 1, 10, 100],\n",
       "                         'class_weight': [None, 'balanced'],\n",
       "                         'gamma': ['scale', 'auto']},\n",
       "             pre_dispatch='2*n_jobs', refit=True, return_train_score=False,\n",
       "             scoring='recall', verbose=0)"
      ]
     },
     "execution_count": 188,
     "metadata": {
      "tags": []
     },
     "output_type": "execute_result"
    }
   ],
   "source": [
    "param = {'C': [0.01, 0.1, 1, 10, 100], 'class_weight': [None, 'balanced'],\n",
    "         'gamma': ['scale', 'auto']} \n",
    "         \n",
    "rbf = SVC(kernel='rbf')\n",
    "\n",
    "rbf_svm = GridSearchCV(rbf, param, cv=10, scoring='recall', n_jobs=2)\n",
    "rbf_svm.fit(X_train, y_train)"
   ]
  },
  {
   "cell_type": "code",
   "execution_count": null,
   "metadata": {
    "colab": {
     "base_uri": "https://localhost:8080/"
    },
    "executionInfo": {
     "elapsed": 1713622,
     "status": "ok",
     "timestamp": 1604436108716,
     "user": {
      "displayName": "Kristof Csaba",
      "photoUrl": "",
      "userId": "02714921974284296610"
     },
     "user_tz": 480
    },
    "id": "z6HzFw4dl-i7",
    "outputId": "f2b2628c-b5ac-4083-92b1-ccb070f5cbdc"
   },
   "outputs": [
    {
     "data": {
      "text/plain": [
       "{'C': 10, 'class_weight': 'balanced', 'gamma': 'auto'}"
      ]
     },
     "execution_count": 189,
     "metadata": {
      "tags": []
     },
     "output_type": "execute_result"
    }
   ],
   "source": [
    "rbf_svm.best_params_"
   ]
  },
  {
   "cell_type": "code",
   "execution_count": null,
   "metadata": {
    "colab": {
     "base_uri": "https://localhost:8080/"
    },
    "executionInfo": {
     "elapsed": 1714686,
     "status": "ok",
     "timestamp": 1604436110552,
     "user": {
      "displayName": "Kristof Csaba",
      "photoUrl": "",
      "userId": "02714921974284296610"
     },
     "user_tz": 480
    },
    "id": "Etf5DcMTesQj",
    "outputId": "8538bdb8-3d91-48b6-9dd8-07eb4f84bba1"
   },
   "outputs": [
    {
     "name": "stdout",
     "output_type": "stream",
     "text": [
      "0.9859943977591037\n",
      "0.9496268656716418\n"
     ]
    }
   ],
   "source": [
    "print(rbf_svm.score(X_train, y_train))\n",
    "print(rbf_svm.score(X_test, y_test))"
   ]
  },
  {
   "cell_type": "code",
   "execution_count": null,
   "metadata": {
    "id": "JRMxgO3imQQt"
   },
   "outputs": [],
   "source": [
    "y_pred = rbf_svm.predict(X_test)"
   ]
  },
  {
   "cell_type": "code",
   "execution_count": null,
   "metadata": {
    "colab": {
     "base_uri": "https://localhost:8080/"
    },
    "executionInfo": {
     "elapsed": 1713777,
     "status": "ok",
     "timestamp": 1604436111126,
     "user": {
      "displayName": "Kristof Csaba",
      "photoUrl": "",
      "userId": "02714921974284296610"
     },
     "user_tz": 480
    },
    "id": "dDbO6WxdmbDE",
    "outputId": "c014daa0-78ee-4846-ec94-6d526bda2e9e"
   },
   "outputs": [
    {
     "data": {
      "text/plain": [
       "array([[3268,  160],\n",
       "       [  54, 1018]])"
      ]
     },
     "execution_count": 192,
     "metadata": {
      "tags": []
     },
     "output_type": "execute_result"
    }
   ],
   "source": [
    "confusion_matrix(y_test, rbf_svm.predict(X_test))"
   ]
  },
  {
   "cell_type": "code",
   "execution_count": null,
   "metadata": {
    "colab": {
     "base_uri": "https://localhost:8080/"
    },
    "executionInfo": {
     "elapsed": 1712982,
     "status": "ok",
     "timestamp": 1604436111127,
     "user": {
      "displayName": "Kristof Csaba",
      "photoUrl": "",
      "userId": "02714921974284296610"
     },
     "user_tz": 480
    },
    "id": "F-MJTSyJmTR5",
    "outputId": "3cc505dc-1329-4452-c2f6-c41a66a63013"
   },
   "outputs": [
    {
     "name": "stdout",
     "output_type": "stream",
     "text": [
      "              precision    recall  f1-score   support\n",
      "\n",
      "           0       0.98      0.95      0.97      3428\n",
      "           1       0.86      0.95      0.90      1072\n",
      "\n",
      "    accuracy                           0.95      4500\n",
      "   macro avg       0.92      0.95      0.94      4500\n",
      "weighted avg       0.96      0.95      0.95      4500\n",
      "\n"
     ]
    }
   ],
   "source": [
    "print(classification_report(y_test, y_pred))"
   ]
  },
  {
   "cell_type": "markdown",
   "metadata": {
    "id": "op1saZUvoB_5"
   },
   "source": [
    "Less overfitting than Gradient Boosting, but still performs slightly worse over all."
   ]
  },
  {
   "cell_type": "markdown",
   "metadata": {
    "id": "Eu_B2xs2Fidb"
   },
   "source": [
    "Random Forest Classifier"
   ]
  },
  {
   "cell_type": "code",
   "execution_count": null,
   "metadata": {
    "id": "75JFASpLFlJg"
   },
   "outputs": [],
   "source": [
    "rf_model = RandomForestClassifier(bootstrap=False, ccp_alpha=0.0, class_weight='balanced',\n",
    "                       criterion='entropy', max_depth=5, max_features=1.0,\n",
    "                       max_leaf_nodes=None, max_samples=None,\n",
    "                       min_impurity_decrease=0.0002, min_impurity_split=None,\n",
    "                       min_samples_leaf=5, min_samples_split=10,\n",
    "                       min_weight_fraction_leaf=0.0, n_estimators=150,\n",
    "                       n_jobs=-1, oob_score=False, verbose=0,\n",
    "                       warm_start=False)\n",
    "rf = rf_model.fit(X_train, y_train)"
   ]
  },
  {
   "cell_type": "code",
   "execution_count": null,
   "metadata": {
    "colab": {
     "base_uri": "https://localhost:8080/"
    },
    "executionInfo": {
     "elapsed": 1035,
     "status": "ok",
     "timestamp": 1604507797389,
     "user": {
      "displayName": "Kristof Csaba",
      "photoUrl": "",
      "userId": "02714921974284296610"
     },
     "user_tz": 480
    },
    "id": "Pqr6-H_uGNE6",
    "outputId": "2b152a3d-b2cf-4cf6-8ad9-2305943892fd"
   },
   "outputs": [
    {
     "data": {
      "text/plain": [
       "0.9755214782360225"
      ]
     },
     "execution_count": 34,
     "metadata": {
      "tags": []
     },
     "output_type": "execute_result"
    }
   ],
   "source": [
    "rf.score(X_train, y_train)"
   ]
  },
  {
   "cell_type": "code",
   "execution_count": null,
   "metadata": {
    "colab": {
     "base_uri": "https://localhost:8080/"
    },
    "executionInfo": {
     "elapsed": 1104,
     "status": "ok",
     "timestamp": 1604507799505,
     "user": {
      "displayName": "Kristof Csaba",
      "photoUrl": "",
      "userId": "02714921974284296610"
     },
     "user_tz": 480
    },
    "id": "gR2rEfTaF4VP",
    "outputId": "812c61d1-fe49-4ead-df44-c2b48cdd474f"
   },
   "outputs": [
    {
     "data": {
      "text/plain": [
       "0.9666666666666667"
      ]
     },
     "execution_count": 35,
     "metadata": {
      "tags": []
     },
     "output_type": "execute_result"
    }
   ],
   "source": [
    "rf.score(X_test, y_test)"
   ]
  },
  {
   "cell_type": "code",
   "execution_count": null,
   "metadata": {
    "colab": {
     "base_uri": "https://localhost:8080/"
    },
    "executionInfo": {
     "elapsed": 697,
     "status": "ok",
     "timestamp": 1604507811192,
     "user": {
      "displayName": "Kristof Csaba",
      "photoUrl": "",
      "userId": "02714921974284296610"
     },
     "user_tz": 480
    },
    "id": "ZxWVVt1IHMj6",
    "outputId": "1d289cb9-8915-4718-f96b-610ea989bcd2"
   },
   "outputs": [
    {
     "name": "stdout",
     "output_type": "stream",
     "text": [
      "              precision    recall  f1-score   support\n",
      "\n",
      "           0       0.97      0.98      0.98      3428\n",
      "           1       0.95      0.91      0.93      1072\n",
      "\n",
      "    accuracy                           0.97      4500\n",
      "   macro avg       0.96      0.95      0.95      4500\n",
      "weighted avg       0.97      0.97      0.97      4500\n",
      "\n"
     ]
    }
   ],
   "source": [
    "print(classification_report(y_test, rf.predict(X_test)))"
   ]
  },
  {
   "cell_type": "markdown",
   "metadata": {},
   "source": [
    "In terms of recall predictions, gradient boosting is superior to all other machine learning models."
   ]
  }
 ],
 "metadata": {
  "colab": {
   "collapsed_sections": [],
   "name": "Capstone_project2_csaba.ipynb",
   "provenance": [],
   "toc_visible": true
  },
  "kernelspec": {
   "display_name": "Python 3",
   "language": "python",
   "name": "python3"
  },
  "language_info": {
   "codemirror_mode": {
    "name": "ipython",
    "version": 3
   },
   "file_extension": ".py",
   "mimetype": "text/x-python",
   "name": "python",
   "nbconvert_exporter": "python",
   "pygments_lexer": "ipython3",
   "version": "3.8.3"
  }
 },
 "nbformat": 4,
 "nbformat_minor": 4
}
